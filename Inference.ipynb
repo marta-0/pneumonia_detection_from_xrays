{
 "cells": [
  {
   "cell_type": "code",
   "execution_count": 1,
   "metadata": {},
   "outputs": [
    {
     "name": "stdout",
     "output_type": "stream",
     "text": [
      "Defaulting to user installation because normal site-packages is not writeable\n",
      "Collecting opencv-python\n",
      "  Downloading opencv_python-4.5.1.48-cp37-cp37m-manylinux2014_x86_64.whl (50.4 MB)\n",
      "\u001b[K     |████████████████████████████████| 50.4 MB 9.0 kB/s ta 0:00:0142   |█▎                              | 1.9 MB 5.2 MB/s eta 0:00:10     |█▊                              | 2.8 MB 5.2 MB/s eta 0:00:10     |██▎                             | 3.7 MB 5.2 MB/s eta 0:00:09     |███▏                            | 5.1 MB 5.2 MB/s eta 0:00:09     |████▏                           | 6.5 MB 5.2 MB/s eta 0:00:09     |████▌                           | 7.2 MB 5.2 MB/s eta 0:00:09     |█████                           | 7.8 MB 5.2 MB/s eta 0:00:09     |█████▍                          | 8.5 MB 5.2 MB/s eta 0:00:09     |███████▌                        | 11.9 MB 5.2 MB/s eta 0:00:08     |████████                        | 12.5 MB 5.2 MB/s eta 0:00:08     |████████▉                       | 13.9 MB 12.9 MB/s eta 0:00:03     |██████████▏                     | 15.9 MB 12.9 MB/s eta 0:00:03     |███████████                     | 17.3 MB 12.9 MB/s eta 0:00:03     |███████████▍                    | 18.0 MB 12.9 MB/s eta 0:00:03     |██████████████                  | 22.0 MB 12.9 MB/s eta 0:00:03     |█████████████████▉              | 28.1 MB 5.2 MB/s eta 0:00:05     |███████████████████▍            | 30.6 MB 5.2 MB/s eta 0:00:04     |████████████████████            | 31.7 MB 5.2 MB/s eta 0:00:04     |█████████████████████▉          | 34.4 MB 5.2 MB/s eta 0:00:04     |██████████████████████▏         | 35.0 MB 5.2 MB/s eta 0:00:03     |██████████████████████▊         | 35.7 MB 5.2 MB/s eta 0:00:03     |███████████████████████▎        | 36.7 MB 3.0 MB/s eta 0:00:05     |███████████████████████▊        | 37.4 MB 3.0 MB/s eta 0:00:05     |████████████████████████▎       | 38.3 MB 3.0 MB/s eta 0:00:05     |█████████████████████████▌      | 40.2 MB 89 kB/s eta 0:01:55     |██████████████████████████▍     | 41.6 MB 89 kB/s eta 0:01:39     |███████████████████████████▋    | 43.5 MB 89 kB/s eta 0:01:17     |████████████████████████████▉   | 45.5 MB 89 kB/s eta 0:00:56     |█████████████████████████████▎  | 46.1 MB 89 kB/s eta 0:00:48     |███████████████████████████████▋| 49.8 MB 89 kB/s eta 0:00:08\n",
      "\u001b[?25hRequirement already satisfied: numpy>=1.14.5 in /opt/conda/lib/python3.7/site-packages (from opencv-python) (1.18.1)\n",
      "Installing collected packages: opencv-python\n",
      "Successfully installed opencv-python-4.5.1.48\n"
     ]
    }
   ],
   "source": [
    "!pip install opencv-python"
   ]
  },
  {
   "cell_type": "code",
   "execution_count": 1,
   "metadata": {},
   "outputs": [
    {
     "name": "stderr",
     "output_type": "stream",
     "text": [
      "Using TensorFlow backend.\n"
     ]
    }
   ],
   "source": [
    "import cv2\n",
    "import numpy as np\n",
    "import pandas as pd\n",
    "import pydicom\n",
    "%matplotlib inline\n",
    "import matplotlib.pyplot as plt\n",
    "import keras \n",
    "from keras.models import model_from_json"
   ]
  },
  {
   "cell_type": "code",
   "execution_count": 2,
   "metadata": {},
   "outputs": [],
   "source": [
    "# This function reads in a .dcm file, checks the important fields for our device, and returns a numpy array\n",
    "# of just the imaging data\n",
    "def check_dicom(filename): \n",
    "    print('Load file {} ...'.format(filename))\n",
    "    \n",
    "    ds = pydicom.dcmread(filename)       \n",
    "    img = ds.pixel_array\n",
    "    \n",
    "    if ds.Modality != 'DX':\n",
    "        print('Modality not appropriate: ', ds.Modality, '\\n')\n",
    "        return None\n",
    "    \n",
    "    if ds.BodyPartExamined != 'CHEST':\n",
    "        print('Body Part Examined not appropriate: ', ds.BodyPartExamined, '\\n')\n",
    "        return None\n",
    "    \n",
    "    if not (ds.PatientPosition == 'AP' or ds.PatientPosition == 'PA'):\n",
    "        print('Patient Position not appropriate: ', ds.PatientPosition, '\\n')\n",
    "        return None\n",
    "    \n",
    "    print(ds.Modality)\n",
    "    print(ds.BodyPartExamined)\n",
    "    print(ds.PatientPosition)\n",
    "    print('True: ', ds.StudyDescription)\n",
    "    \n",
    "    return img\n",
    "    \n",
    "# This function takes the numpy array output by check_dicom and \n",
    "# runs the appropriate pre-processing needed for our model input\n",
    "def preprocess_image(img, img_size): \n",
    "    img = cv2.resize(img, img_size[1:-1])\n",
    "    img = img / np.max(img)\n",
    "    img = np.dstack((img, img, img))\n",
    "    img = np.expand_dims(img, 0)\n",
    "    \n",
    "    return img\n",
    "\n",
    "# This function loads in our trained model w/ weights and compiles it \n",
    "def load_model(model_path, weight_path):\n",
    "    with open(model_path) as json_file:\n",
    "        model = keras.models.model_from_json(json_file.read())\n",
    "        \n",
    "    model.load_weights(weight_path)\n",
    "    \n",
    "    return model\n",
    "\n",
    "# This function uses our device's threshold parameters to predict whether or not\n",
    "# the image shows the presence of pneumonia using our trained model\n",
    "def predict_image(model, img, threshold): \n",
    "    y_pred = model.predict(img)\n",
    "    print(y_pred)\n",
    "    y_pred = (y_pred >= threshold) * 1\n",
    "    \n",
    "    if y_pred == 1:\n",
    "        prediction = 'Pneumonia'\n",
    "    elif y_pred == 0:\n",
    "        prediction = 'No Pneumonia'\n",
    "    \n",
    "    return prediction "
   ]
  },
  {
   "cell_type": "markdown",
   "metadata": {},
   "source": [
    "## Predictions"
   ]
  },
  {
   "cell_type": "code",
   "execution_count": 3,
   "metadata": {},
   "outputs": [
    {
     "name": "stdout",
     "output_type": "stream",
     "text": [
      "Load file test1.dcm ...\n",
      "DX\n",
      "CHEST\n",
      "PA\n",
      "True:  No Finding\n"
     ]
    }
   ],
   "source": [
    "#check single img\n",
    "img_ = check_dicom('test1.dcm')"
   ]
  },
  {
   "cell_type": "code",
   "execution_count": 4,
   "metadata": {},
   "outputs": [
    {
     "name": "stdout",
     "output_type": "stream",
     "text": [
      "Load file test1.dcm ...\n",
      "DX\n",
      "CHEST\n",
      "PA\n",
      "True:  No Finding\n",
      "[[0.47920057]]\n",
      "Pred:  Pneumonia \n",
      "\n",
      "Load file test2.dcm ...\n",
      "DX\n",
      "CHEST\n",
      "AP\n",
      "True:  Cardiomegaly\n",
      "[[0.47035223]]\n",
      "Pred:  Pneumonia \n",
      "\n",
      "Load file test3.dcm ...\n",
      "DX\n",
      "CHEST\n",
      "AP\n",
      "True:  Effusion\n",
      "[[0.49844286]]\n",
      "Pred:  Pneumonia \n",
      "\n",
      "Load file test4.dcm ...\n",
      "Body Part Examined not appropriate:  RIBCAGE \n",
      "\n",
      "Load file test5.dcm ...\n",
      "Modality not appropriate:  CT \n",
      "\n",
      "Load file test6.dcm ...\n",
      "Patient Position not appropriate:  XX \n",
      "\n"
     ]
    }
   ],
   "source": [
    "test_dicoms = ['test1.dcm','test2.dcm','test3.dcm','test4.dcm','test5.dcm','test6.dcm']\n",
    "\n",
    "model_path = 'model.json'\n",
    "weight_path = 'vgg16_best_dropout_4.hdf5'\n",
    "\n",
    "IMG_SIZE = (1,224,224,3)\n",
    "# img_mean = 0.5\n",
    "# img_std = 0.5\n",
    "\n",
    "model = load_model(model_path, weight_path)\n",
    "threshold = 0.33\n",
    "\n",
    "for i in test_dicoms:\n",
    "\n",
    "    img = check_dicom(i)\n",
    "    \n",
    "    if img is None:\n",
    "        continue\n",
    "        \n",
    "    img_proc = preprocess_image(img, IMG_SIZE)\n",
    "    pred = predict_image(model, img_proc, threshold)\n",
    "    print('Pred: ', pred, '\\n')"
   ]
  },
  {
   "cell_type": "markdown",
   "metadata": {},
   "source": [
    "Along with the final prediction Pneumonia/No Pneumonia it might be beneficial to display the probability of the prediction to the radiologist as well."
   ]
  },
  {
   "cell_type": "markdown",
   "metadata": {},
   "source": [
    "## Check times"
   ]
  },
  {
   "cell_type": "code",
   "execution_count": 5,
   "metadata": {},
   "outputs": [
    {
     "name": "stdout",
     "output_type": "stream",
     "text": [
      "CPU times: user 3 µs, sys: 0 ns, total: 3 µs\n",
      "Wall time: 8.34 µs\n",
      "Load file test1.dcm ...\n",
      "DX\n",
      "CHEST\n",
      "PA\n",
      "True:  No Finding\n",
      "[[0.47920057]]\n",
      "Pred:  Pneumonia \n",
      "\n"
     ]
    }
   ],
   "source": [
    "%time\n",
    "\n",
    "img = check_dicom('test1.dcm')   \n",
    "img_proc = preprocess_image(img, IMG_SIZE)\n",
    "pred = predict_image(model, img_proc, threshold)\n",
    "print('Pred: ', pred, '\\n')"
   ]
  },
  {
   "cell_type": "code",
   "execution_count": 6,
   "metadata": {},
   "outputs": [
    {
     "name": "stdout",
     "output_type": "stream",
     "text": [
      "CPU times: user 3 µs, sys: 1e+03 ns, total: 4 µs\n",
      "Wall time: 7.15 µs\n",
      "Load file test2.dcm ...\n",
      "DX\n",
      "CHEST\n",
      "AP\n",
      "True:  Cardiomegaly\n",
      "[[0.47035223]]\n",
      "Pred:  Pneumonia \n",
      "\n"
     ]
    }
   ],
   "source": [
    "%time\n",
    "\n",
    "img = check_dicom('test2.dcm')   \n",
    "img_proc = preprocess_image(img, IMG_SIZE)\n",
    "pred = predict_image(model, img_proc, threshold)\n",
    "print('Pred: ', pred, '\\n')"
   ]
  },
  {
   "cell_type": "code",
   "execution_count": null,
   "metadata": {},
   "outputs": [],
   "source": []
  }
 ],
 "metadata": {
  "kernelspec": {
   "display_name": "Python 3",
   "language": "python",
   "name": "python3"
  },
  "language_info": {
   "codemirror_mode": {
    "name": "ipython",
    "version": 3
   },
   "file_extension": ".py",
   "mimetype": "text/x-python",
   "name": "python",
   "nbconvert_exporter": "python",
   "pygments_lexer": "ipython3",
   "version": "3.7.4"
  }
 },
 "nbformat": 4,
 "nbformat_minor": 4
}
